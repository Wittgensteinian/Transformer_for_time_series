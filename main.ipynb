{
 "cells": [
  {
   "cell_type": "code",
   "execution_count": 3,
   "source": [
    "from run.run import RunSynthetic\n",
    "config = dict(\n",
    "    t0=96,\n",
    "    embedding_dim=16,\n",
    "    nhead=4,\n",
    "    num_layers=(3, 3),\n",
    "    ts_embed='wavenet',\n",
    "    pos_embed='fixed',\n",
    "    batch_size=64,\n",
    "    lr=1e-3,\n",
    "    betas=(0.9, 0.98),\n",
    "    sch_stepsize=5,\n",
    "    sch_gamma=0.5,\n",
    "    es_patience=5,\n",
    "    n_epoch=50,\n",
    ")\n",
    "synth = RunSynthetic('demo', config, verbose=0)"
   ],
   "outputs": [
    {
     "output_type": "display_data",
     "data": {
      "text/plain": [
       "<IPython.core.display.HTML object>"
      ],
      "text/html": [
       "\n",
       "                Tracking run with wandb version 0.11.0<br/>\n",
       "                Syncing run <strong style=\"color:#cdcd00\">classic-flower-22</strong> to <a href=\"https://wandb.ai\" target=\"_blank\">Weights & Biases</a> <a href=\"https://docs.wandb.com/integrations/jupyter.html\" target=\"_blank\">(Documentation)</a>.<br/>\n",
       "                Project page: <a href=\"https://wandb.ai/wittgensteinian/demo\" target=\"_blank\">https://wandb.ai/wittgensteinian/demo</a><br/>\n",
       "                Run page: <a href=\"https://wandb.ai/wittgensteinian/demo/runs/3didwzuc\" target=\"_blank\">https://wandb.ai/wittgensteinian/demo/runs/3didwzuc</a><br/>\n",
       "                Run data is saved locally in <code>/home/student/Transformer_for_time_series/wandb/run-20210723_092851-3didwzuc</code><br/><br/>\n",
       "            "
      ]
     },
     "metadata": {}
    },
    {
     "output_type": "stream",
     "name": "stdout",
     "text": [
      "Start training\n"
     ]
    },
    {
     "output_type": "stream",
     "name": "stderr",
     "text": [
      "100%|██████████| 71/71 [00:02<00:00, 27.18it/s]\n"
     ]
    },
    {
     "output_type": "stream",
     "name": "stdout",
     "text": [
      "[Epoch 1] Train loss: 489.8792 Val loss: 150.7875\n",
      "[Epoch 2] Train loss: 108.8320 Val loss: 61.0542\n",
      "[Epoch 3] Train loss: 47.9039 Val loss: 28.9666\n",
      "[Epoch 4] Train loss: 24.9141 Val loss: 17.6890\n",
      "[Epoch 5] Train loss: 16.9498 Val loss: 14.0768\n",
      "[Epoch 6] Train loss: 9.5634 Val loss: 5.2870\n",
      "[Epoch 7] Train loss: 4.9621 Val loss: 3.3128\n",
      "[Epoch 8] Train loss: 3.3508 Val loss: 2.5661\n",
      "[Epoch 9] Train loss: 2.7237 Val loss: 2.4756\n",
      "[Epoch 10] Train loss: 2.4863 Val loss: 2.2151\n",
      "[Epoch 11] Train loss: 2.3819 Val loss: 2.2254\n",
      "EarlyStopping counter: 1 out of 5\n",
      "[Epoch 12] Train loss: 2.2480 Val loss: 1.9108\n",
      "[Epoch 13] Train loss: 2.0678 Val loss: 1.9456\n",
      "EarlyStopping counter: 1 out of 5\n",
      "[Epoch 14] Train loss: 1.9699 Val loss: 1.6784\n",
      "[Epoch 15] Train loss: 1.8833 Val loss: 1.5401\n",
      "[Epoch 16] Train loss: 1.8210 Val loss: 1.5053\n",
      "[Epoch 17] Train loss: 1.7994 Val loss: 1.4724\n",
      "[Epoch 18] Train loss: 1.7657 Val loss: 1.4845\n",
      "EarlyStopping counter: 1 out of 5\n",
      "[Epoch 19] Train loss: 1.7617 Val loss: 1.4958\n",
      "EarlyStopping counter: 2 out of 5\n",
      "[Epoch 20] Train loss: 1.7298 Val loss: 1.4773\n",
      "EarlyStopping counter: 3 out of 5\n",
      "[Epoch 21] Train loss: 1.7148 Val loss: 1.4107\n",
      "[Epoch 22] Train loss: 1.6945 Val loss: 1.5255\n",
      "EarlyStopping counter: 1 out of 5\n",
      "[Epoch 23] Train loss: 1.6900 Val loss: 1.3890\n",
      "[Epoch 24] Train loss: 1.6775 Val loss: 1.3447\n",
      "[Epoch 25] Train loss: 1.6609 Val loss: 1.4014\n",
      "EarlyStopping counter: 1 out of 5\n",
      "[Epoch 26] Train loss: 1.6641 Val loss: 1.3647\n",
      "EarlyStopping counter: 2 out of 5\n",
      "[Epoch 27] Train loss: 1.6468 Val loss: 1.3342\n",
      "[Epoch 28] Train loss: 1.6369 Val loss: 1.3395\n",
      "EarlyStopping counter: 1 out of 5\n",
      "[Epoch 29] Train loss: 1.6331 Val loss: 1.3608\n",
      "EarlyStopping counter: 2 out of 5\n",
      "[Epoch 30] Train loss: 1.6368 Val loss: 1.3046\n",
      "[Epoch 31] Train loss: 1.6235 Val loss: 1.3229\n",
      "EarlyStopping counter: 1 out of 5\n",
      "[Epoch 32] Train loss: 1.6220 Val loss: 1.3098\n",
      "EarlyStopping counter: 2 out of 5\n",
      "[Epoch 33] Train loss: 1.6212 Val loss: 1.2879\n",
      "[Epoch 34] Train loss: 1.6137 Val loss: 1.3102\n",
      "EarlyStopping counter: 1 out of 5\n",
      "[Epoch 35] Train loss: 1.6116 Val loss: 1.2934\n",
      "EarlyStopping counter: 2 out of 5\n",
      "[Epoch 36] Train loss: 1.6105 Val loss: 1.3009\n",
      "EarlyStopping counter: 3 out of 5\n",
      "[Epoch 37] Train loss: 1.6083 Val loss: 1.3134\n",
      "EarlyStopping counter: 4 out of 5\n",
      "[Epoch 38] Train loss: 1.6035 Val loss: 1.2969\n",
      "EarlyStopping counter: 5 out of 5\n",
      "Finish training\n"
     ]
    },
    {
     "output_type": "display_data",
     "data": {
      "text/plain": [
       "<IPython.core.display.HTML object>"
      ],
      "text/html": [
       "<br/>Waiting for W&B process to finish, PID 1140244<br/>Program ended successfully."
      ]
     },
     "metadata": {}
    },
    {
     "output_type": "display_data",
     "data": {
      "text/plain": [
       "<IPython.core.display.HTML object>"
      ],
      "text/html": [
       "Find user logs for this run at: <code>/home/student/Transformer_for_time_series/wandb/run-20210723_092851-3didwzuc/logs/debug.log</code>"
      ]
     },
     "metadata": {}
    },
    {
     "output_type": "display_data",
     "data": {
      "text/plain": [
       "<IPython.core.display.HTML object>"
      ],
      "text/html": [
       "Find internal logs for this run at: <code>/home/student/Transformer_for_time_series/wandb/run-20210723_092851-3didwzuc/logs/debug-internal.log</code>"
      ]
     },
     "metadata": {}
    },
    {
     "output_type": "display_data",
     "data": {
      "text/plain": [
       "<IPython.core.display.HTML object>"
      ],
      "text/html": [
       "<h3>Run summary:</h3><br/><style>\n",
       "    table.wandb td:nth-child(1) { padding: 0 10px; text-align: right }\n",
       "    </style><table class=\"wandb\">\n",
       "<tr><td>epoch</td><td>37</td></tr><tr><td>train_loss</td><td>1.60346</td></tr><tr><td>train_metric</td><td>2.54005</td></tr><tr><td>val_loss</td><td>1.29695</td></tr><tr><td>val_metric</td><td>1.62309</td></tr><tr><td>_runtime</td><td>107</td></tr><tr><td>_timestamp</td><td>1627032638</td></tr><tr><td>_step</td><td>37</td></tr></table>"
      ]
     },
     "metadata": {}
    },
    {
     "output_type": "display_data",
     "data": {
      "text/plain": [
       "<IPython.core.display.HTML object>"
      ],
      "text/html": [
       "<h3>Run history:</h3><br/><style>\n",
       "    table.wandb td:nth-child(1) { padding: 0 10px; text-align: right }\n",
       "    </style><table class=\"wandb\">\n",
       "<tr><td>epoch</td><td>▁▁▁▂▂▂▂▂▃▃▃▃▃▃▄▄▄▄▄▅▅▅▅▅▆▆▆▆▆▆▇▇▇▇▇███</td></tr><tr><td>train_loss</td><td>█▃▂▁▁▁▁▁▁▁▁▁▁▁▁▁▁▁▁▁▁▁▁▁▁▁▁▁▁▁▁▁▁▁▁▁▁▁</td></tr><tr><td>train_metric</td><td>█▆▅▄▄▃▂▂▁▁▁▁▁▁▁▁▁▁▁▁▁▁▁▁▁▁▁▁▁▁▁▁▁▁▁▁▁▁</td></tr><tr><td>val_loss</td><td>█▄▂▂▂▁▁▁▁▁▁▁▁▁▁▁▁▁▁▁▁▁▁▁▁▁▁▁▁▁▁▁▁▁▁▁▁▁</td></tr><tr><td>val_metric</td><td>█▆▅▄▄▂▂▁▁▁▁▁▁▁▁▁▁▁▁▁▁▁▁▁▁▁▁▁▁▁▁▁▁▁▁▁▁▁</td></tr><tr><td>_runtime</td><td>▁▁▁▂▂▂▂▂▃▃▃▃▃▃▄▄▄▄▄▅▅▅▅▅▆▆▆▆▆▆▇▇▇▇▇███</td></tr><tr><td>_timestamp</td><td>▁▁▁▂▂▂▂▂▃▃▃▃▃▃▄▄▄▄▄▅▅▅▅▅▆▆▆▆▆▆▇▇▇▇▇███</td></tr><tr><td>_step</td><td>▁▁▁▂▂▂▂▂▃▃▃▃▃▃▄▄▄▄▄▅▅▅▅▅▆▆▆▆▆▆▇▇▇▇▇███</td></tr></table><br/>"
      ]
     },
     "metadata": {}
    },
    {
     "output_type": "display_data",
     "data": {
      "text/plain": [
       "<IPython.core.display.HTML object>"
      ],
      "text/html": [
       "Synced 6 W&B file(s), 0 media file(s), 0 artifact file(s) and 1 other file(s)"
      ]
     },
     "metadata": {}
    },
    {
     "output_type": "display_data",
     "data": {
      "text/plain": [
       "<IPython.core.display.HTML object>"
      ],
      "text/html": [
       "\n",
       "                    <br/>Synced <strong style=\"color:#cdcd00\">classic-flower-22</strong>: <a href=\"https://wandb.ai/wittgensteinian/demo/runs/3didwzuc\" target=\"_blank\">https://wandb.ai/wittgensteinian/demo/runs/3didwzuc</a><br/>\n",
       "                "
      ]
     },
     "metadata": {}
    }
   ],
   "metadata": {}
  }
 ],
 "metadata": {
  "orig_nbformat": 4,
  "language_info": {
   "name": "python",
   "version": "3.8.10",
   "mimetype": "text/x-python",
   "codemirror_mode": {
    "name": "ipython",
    "version": 3
   },
   "pygments_lexer": "ipython3",
   "nbconvert_exporter": "python",
   "file_extension": ".py"
  },
  "kernelspec": {
   "name": "python3",
   "display_name": "Python 3.8.10 64-bit ('pytorch-env': conda)"
  },
  "interpreter": {
   "hash": "05cb4678c425dc78ebd8f07d93ca1ef591c77e67f932e6a19a7e2b1dda03f702"
  }
 },
 "nbformat": 4,
 "nbformat_minor": 2
}