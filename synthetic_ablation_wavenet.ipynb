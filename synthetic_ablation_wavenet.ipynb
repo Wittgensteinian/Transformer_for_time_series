{
 "cells": [
  {
   "cell_type": "markdown",
   "source": [
    "# Ablation study on ts_embed\n",
    "**Does wavenet embedding improves long-term forecasintg?**\n",
    "\n",
    "> All runs from a sweep named *wavenet_ablation*.  \n",
    "> All hyperparams are shared through all runs, except for *ts_embed*."
   ],
   "metadata": {}
  },
  {
   "cell_type": "code",
   "execution_count": 42,
   "source": [
    "import torch\n",
    "import seaborn as sns\n",
    "sns.set_style('darkgrid')\n",
    "from tqdm import tqdm\n",
    "import pandas as pd\n",
    "import matplotlib.pyplot as plt\n",
    "\n",
    "from model.model import Transformer_fcst\n",
    "from tools.infer import InferShortTerm, InferLongTerm\n",
    "from tools.create_synthetic import create_multi\n",
    "from tools.preprocess import make_input_target, make_src_tgt\n",
    "from tools.train import make_loader"
   ],
   "outputs": [],
   "metadata": {}
  },
  {
   "cell_type": "code",
   "execution_count": 2,
   "source": [
    "# infer config\n",
    "src_len, tgt_len = 96, 24\n",
    "project_name = 'transformer_for_time_series_synthetic_data'\n",
    "\n",
    "# device\n",
    "device = torch.device('cuda:0' if torch.cuda.is_available() else 'cpu')\n",
    "\n",
    "# test data\n",
    "test_data = create_multi(1000, src_len, tgt_len)\n",
    "input, target = make_input_target(test_data, src_len, tgt_len)\n",
    "test_dloader = make_loader(input, target, batch_size=128)"
   ],
   "outputs": [],
   "metadata": {}
  },
  {
   "cell_type": "markdown",
   "source": [
    "## Top 5 runs using ***conv*** as time series embedding"
   ],
   "metadata": {}
  },
  {
   "cell_type": "code",
   "execution_count": 3,
   "source": [
    "TS_EMBED = 'conv'\n",
    "run_names = ['celestial-sweep-10', 'logical-sweep-4', 'deep-sweep-22', 'dry-sweep-12', 'crisp-sweep-2']\n",
    "conv_logs = dict()\n",
    "\n",
    "for run_name in run_names:    \n",
    "    # model (load .pth from checkpoints)\n",
    "    model = Transformer_fcst(fcst_mode='gauss',\n",
    "                             seq_len=(src_len, tgt_len),\n",
    "                             embedding_dim=16,\n",
    "                             nhead=8,\n",
    "                             num_layers=(2, 2),\n",
    "                             device=device,\n",
    "                             ts_embed=TS_EMBED,\n",
    "                             pos_embed='fixed').to(device)\n",
    "    model.load_state_dict(torch.load(f'./checkpoints/synthetic/{project_name}_{run_name}.pth'))\n",
    "    print(f'Load model from \\n project name: {project_name} \\n run name: {run_name}')\n",
    "\n",
    "    # infer object\n",
    "    infershrot = InferShortTerm(model)\n",
    "    inferlong = InferLongTerm(model)\n",
    "    \n",
    "    # infer\n",
    "    running_values = [0.0 for _ in range(4)]\n",
    "    with torch.no_grad():\n",
    "        for (input_batch, target_batch) in tqdm(test_dloader):\n",
    "            input_batch, target_batch = input_batch.to(device), target_batch.to(device)\n",
    "            src, tgt = make_src_tgt(input_batch, src_len, tgt_len)\n",
    "\n",
    "            short_loss, short_metrics = infershrot.eval((src, tgt), target_batch)\n",
    "            long_loss, long_metrics = inferlong.eval((src, tgt), target_batch)\n",
    "\n",
    "            running_values[0] += short_loss.item()\n",
    "            running_values[1] += short_metrics[0].item()\n",
    "            running_values[2] += long_loss.item()\n",
    "            running_values[3] += long_metrics[0].item()\n",
    "    \n",
    "    running_values = [x/len(test_dloader) for x in running_values]\n",
    "\n",
    "    # add to conv_logs\n",
    "    conv_logs[run_name] = running_values\n"
   ],
   "outputs": [
    {
     "output_type": "stream",
     "name": "stdout",
     "text": [
      "Load model from \n",
      " project name: transformer_for_time_series_synthetic_data \n",
      " run name: celestial-sweep-10\n"
     ]
    },
    {
     "output_type": "stream",
     "name": "stderr",
     "text": [
      "100%|██████████| 8/8 [00:56<00:00,  7.07s/it]\n"
     ]
    },
    {
     "output_type": "stream",
     "name": "stdout",
     "text": [
      "Load model from \n",
      " project name: transformer_for_time_series_synthetic_data \n",
      " run name: logical-sweep-4\n"
     ]
    },
    {
     "output_type": "stream",
     "name": "stderr",
     "text": [
      "100%|██████████| 8/8 [00:56<00:00,  7.02s/it]\n"
     ]
    },
    {
     "output_type": "stream",
     "name": "stdout",
     "text": [
      "Load model from \n",
      " project name: transformer_for_time_series_synthetic_data \n",
      " run name: deep-sweep-22\n"
     ]
    },
    {
     "output_type": "stream",
     "name": "stderr",
     "text": [
      "100%|██████████| 8/8 [00:56<00:00,  7.02s/it]\n"
     ]
    },
    {
     "output_type": "stream",
     "name": "stdout",
     "text": [
      "Load model from \n",
      " project name: transformer_for_time_series_synthetic_data \n",
      " run name: dry-sweep-12\n"
     ]
    },
    {
     "output_type": "stream",
     "name": "stderr",
     "text": [
      "100%|██████████| 8/8 [00:56<00:00,  7.01s/it]\n"
     ]
    },
    {
     "output_type": "stream",
     "name": "stdout",
     "text": [
      "Load model from \n",
      " project name: transformer_for_time_series_synthetic_data \n",
      " run name: crisp-sweep-2\n"
     ]
    },
    {
     "output_type": "stream",
     "name": "stderr",
     "text": [
      "100%|██████████| 8/8 [00:51<00:00,  6.41s/it]\n"
     ]
    }
   ],
   "metadata": {}
  },
  {
   "cell_type": "markdown",
   "source": [
    "## Top 5 runs using ***wavenet*** as time series embedding"
   ],
   "metadata": {}
  },
  {
   "cell_type": "code",
   "execution_count": 9,
   "source": [
    "TS_EMBED = 'wavenet'\n",
    "run_names = ['confused-sweep-5', 'blooming-sweep-9', 'bright-sweep-11', 'dutiful-sweep-21', 'charmed-sweep-3']\n",
    "wavenet_logs = dict()\n",
    "\n",
    "for run_name in run_names:    \n",
    "    # model (load .pth from checkpoints)\n",
    "    model = Transformer_fcst(fcst_mode='gauss',\n",
    "                             seq_len=(src_len, tgt_len),\n",
    "                             embedding_dim=16,\n",
    "                             nhead=8,\n",
    "                             num_layers=(2, 2),\n",
    "                             device=device,\n",
    "                             ts_embed=TS_EMBED,\n",
    "                             pos_embed='fixed').to(device)\n",
    "    model.load_state_dict(torch.load(f'./checkpoints/synthetic/{project_name}_{run_name}.pth'))\n",
    "    print(f'Load model from \\n project name: {project_name} \\n run name: {run_name}')\n",
    "\n",
    "    # infer object\n",
    "    infershrot = InferShortTerm(model)\n",
    "    inferlong = InferLongTerm(model)\n",
    "    \n",
    "    # infer\n",
    "    running_values = [0.0 for _ in range(4)]\n",
    "    with torch.no_grad():\n",
    "        for (input_batch, target_batch) in tqdm(test_dloader):\n",
    "            input_batch, target_batch = input_batch.to(device), target_batch.to(device)\n",
    "            src, tgt = make_src_tgt(input_batch, src_len, tgt_len)\n",
    "\n",
    "            short_loss, short_metrics = infershrot.eval((src, tgt), target_batch)\n",
    "            long_loss, long_metrics = inferlong.eval((src, tgt), target_batch)\n",
    "\n",
    "            running_values[0] += short_loss.item()\n",
    "            running_values[1] += short_metrics[0].item()\n",
    "            running_values[2] += long_loss.item()\n",
    "            running_values[3] += long_metrics[0].item()\n",
    "    \n",
    "    running_values = [x/len(test_dloader) for x in running_values]\n",
    "\n",
    "    # add to wavenet_logs\n",
    "    wavenet_logs[run_name] = running_values"
   ],
   "outputs": [
    {
     "output_type": "stream",
     "name": "stdout",
     "text": [
      "Load model from \n",
      " project name: transformer_for_time_series_synthetic_data \n",
      " run name: confused-sweep-5\n"
     ]
    },
    {
     "output_type": "stream",
     "name": "stderr",
     "text": [
      "100%|██████████| 8/8 [00:25<00:00,  3.14s/it]\n"
     ]
    },
    {
     "output_type": "stream",
     "name": "stdout",
     "text": [
      "Load model from \n",
      " project name: transformer_for_time_series_synthetic_data \n",
      " run name: blooming-sweep-9\n"
     ]
    },
    {
     "output_type": "stream",
     "name": "stderr",
     "text": [
      "100%|██████████| 8/8 [00:25<00:00,  3.15s/it]\n"
     ]
    },
    {
     "output_type": "stream",
     "name": "stdout",
     "text": [
      "Load model from \n",
      " project name: transformer_for_time_series_synthetic_data \n",
      " run name: bright-sweep-11\n"
     ]
    },
    {
     "output_type": "stream",
     "name": "stderr",
     "text": [
      "100%|██████████| 8/8 [00:25<00:00,  3.16s/it]\n"
     ]
    },
    {
     "output_type": "stream",
     "name": "stdout",
     "text": [
      "Load model from \n",
      " project name: transformer_for_time_series_synthetic_data \n",
      " run name: dutiful-sweep-21\n"
     ]
    },
    {
     "output_type": "stream",
     "name": "stderr",
     "text": [
      "100%|██████████| 8/8 [00:25<00:00,  3.16s/it]\n"
     ]
    },
    {
     "output_type": "stream",
     "name": "stdout",
     "text": [
      "Load model from \n",
      " project name: transformer_for_time_series_synthetic_data \n",
      " run name: charmed-sweep-3\n"
     ]
    },
    {
     "output_type": "stream",
     "name": "stderr",
     "text": [
      "100%|██████████| 8/8 [00:25<00:00,  3.17s/it]\n"
     ]
    }
   ],
   "metadata": {}
  },
  {
   "cell_type": "markdown",
   "source": [
    "## Result\n"
   ],
   "metadata": {}
  },
  {
   "cell_type": "code",
   "execution_count": 13,
   "source": [
    "# to pd.DataFrame\n",
    "conv_logs = pd.DataFrame(conv_logs)\n",
    "wavenet_logs = pd.DataFrame(wavenet_logs)\n",
    "\n",
    "# name indices\n",
    "index = ['short_loss', 'short_MAE', 'long_loss', 'long_MAE']\n",
    "conv_logs.index = index\n",
    "wavenet_logs.index = index\n",
    "\n",
    "# append mean\n",
    "conv_logs['mean'] = conv_logs.mean(axis=1)\n",
    "wavenet_logs['mean'] = wavenet_logs.mean(axis=1)"
   ],
   "outputs": [],
   "metadata": {}
  },
  {
   "cell_type": "code",
   "execution_count": 27,
   "source": [
    "conv_logs"
   ],
   "outputs": [
    {
     "output_type": "execute_result",
     "data": {
      "text/plain": [
       "            celestial-sweep-10  logical-sweep-4  deep-sweep-22  dry-sweep-12  \\\n",
       "short_loss            0.824032         0.859523       1.011466      0.979081   \n",
       "short_MAE             1.083941         1.104553       1.273589      1.341218   \n",
       "long_loss             1.654819         1.390918       1.901149      1.410918   \n",
       "long_MAE              1.734144         1.597514       2.254526      1.810240   \n",
       "\n",
       "            crisp-sweep-2      mean  \n",
       "short_loss       0.970206  0.928861  \n",
       "short_MAE        1.292745  1.219209  \n",
       "long_loss        2.055250  1.682611  \n",
       "long_MAE         2.337876  1.946860  "
      ],
      "text/html": [
       "<div>\n",
       "<style scoped>\n",
       "    .dataframe tbody tr th:only-of-type {\n",
       "        vertical-align: middle;\n",
       "    }\n",
       "\n",
       "    .dataframe tbody tr th {\n",
       "        vertical-align: top;\n",
       "    }\n",
       "\n",
       "    .dataframe thead th {\n",
       "        text-align: right;\n",
       "    }\n",
       "</style>\n",
       "<table border=\"1\" class=\"dataframe\">\n",
       "  <thead>\n",
       "    <tr style=\"text-align: right;\">\n",
       "      <th></th>\n",
       "      <th>celestial-sweep-10</th>\n",
       "      <th>logical-sweep-4</th>\n",
       "      <th>deep-sweep-22</th>\n",
       "      <th>dry-sweep-12</th>\n",
       "      <th>crisp-sweep-2</th>\n",
       "      <th>mean</th>\n",
       "    </tr>\n",
       "  </thead>\n",
       "  <tbody>\n",
       "    <tr>\n",
       "      <th>short_loss</th>\n",
       "      <td>0.824032</td>\n",
       "      <td>0.859523</td>\n",
       "      <td>1.011466</td>\n",
       "      <td>0.979081</td>\n",
       "      <td>0.970206</td>\n",
       "      <td>0.928861</td>\n",
       "    </tr>\n",
       "    <tr>\n",
       "      <th>short_MAE</th>\n",
       "      <td>1.083941</td>\n",
       "      <td>1.104553</td>\n",
       "      <td>1.273589</td>\n",
       "      <td>1.341218</td>\n",
       "      <td>1.292745</td>\n",
       "      <td>1.219209</td>\n",
       "    </tr>\n",
       "    <tr>\n",
       "      <th>long_loss</th>\n",
       "      <td>1.654819</td>\n",
       "      <td>1.390918</td>\n",
       "      <td>1.901149</td>\n",
       "      <td>1.410918</td>\n",
       "      <td>2.055250</td>\n",
       "      <td>1.682611</td>\n",
       "    </tr>\n",
       "    <tr>\n",
       "      <th>long_MAE</th>\n",
       "      <td>1.734144</td>\n",
       "      <td>1.597514</td>\n",
       "      <td>2.254526</td>\n",
       "      <td>1.810240</td>\n",
       "      <td>2.337876</td>\n",
       "      <td>1.946860</td>\n",
       "    </tr>\n",
       "  </tbody>\n",
       "</table>\n",
       "</div>"
      ]
     },
     "metadata": {},
     "execution_count": 27
    }
   ],
   "metadata": {}
  },
  {
   "cell_type": "code",
   "execution_count": 28,
   "source": [
    "wavenet_logs"
   ],
   "outputs": [
    {
     "output_type": "execute_result",
     "data": {
      "text/plain": [
       "            confused-sweep-5  blooming-sweep-9  bright-sweep-11  \\\n",
       "short_loss          0.885640          0.880714         0.915939   \n",
       "short_MAE           1.114039          1.053063         1.146635   \n",
       "long_loss           1.139584          1.254656         1.529600   \n",
       "long_MAE            1.418247          1.496067         1.801140   \n",
       "\n",
       "            dutiful-sweep-21  charmed-sweep-3      mean  \n",
       "short_loss          0.914385         1.018161  0.922968  \n",
       "short_MAE           1.162537         1.338194  1.162894  \n",
       "long_loss           1.336998         1.267038  1.305575  \n",
       "long_MAE            1.591621         1.696622  1.600739  "
      ],
      "text/html": [
       "<div>\n",
       "<style scoped>\n",
       "    .dataframe tbody tr th:only-of-type {\n",
       "        vertical-align: middle;\n",
       "    }\n",
       "\n",
       "    .dataframe tbody tr th {\n",
       "        vertical-align: top;\n",
       "    }\n",
       "\n",
       "    .dataframe thead th {\n",
       "        text-align: right;\n",
       "    }\n",
       "</style>\n",
       "<table border=\"1\" class=\"dataframe\">\n",
       "  <thead>\n",
       "    <tr style=\"text-align: right;\">\n",
       "      <th></th>\n",
       "      <th>confused-sweep-5</th>\n",
       "      <th>blooming-sweep-9</th>\n",
       "      <th>bright-sweep-11</th>\n",
       "      <th>dutiful-sweep-21</th>\n",
       "      <th>charmed-sweep-3</th>\n",
       "      <th>mean</th>\n",
       "    </tr>\n",
       "  </thead>\n",
       "  <tbody>\n",
       "    <tr>\n",
       "      <th>short_loss</th>\n",
       "      <td>0.885640</td>\n",
       "      <td>0.880714</td>\n",
       "      <td>0.915939</td>\n",
       "      <td>0.914385</td>\n",
       "      <td>1.018161</td>\n",
       "      <td>0.922968</td>\n",
       "    </tr>\n",
       "    <tr>\n",
       "      <th>short_MAE</th>\n",
       "      <td>1.114039</td>\n",
       "      <td>1.053063</td>\n",
       "      <td>1.146635</td>\n",
       "      <td>1.162537</td>\n",
       "      <td>1.338194</td>\n",
       "      <td>1.162894</td>\n",
       "    </tr>\n",
       "    <tr>\n",
       "      <th>long_loss</th>\n",
       "      <td>1.139584</td>\n",
       "      <td>1.254656</td>\n",
       "      <td>1.529600</td>\n",
       "      <td>1.336998</td>\n",
       "      <td>1.267038</td>\n",
       "      <td>1.305575</td>\n",
       "    </tr>\n",
       "    <tr>\n",
       "      <th>long_MAE</th>\n",
       "      <td>1.418247</td>\n",
       "      <td>1.496067</td>\n",
       "      <td>1.801140</td>\n",
       "      <td>1.591621</td>\n",
       "      <td>1.696622</td>\n",
       "      <td>1.600739</td>\n",
       "    </tr>\n",
       "  </tbody>\n",
       "</table>\n",
       "</div>"
      ]
     },
     "metadata": {},
     "execution_count": 28
    }
   ],
   "metadata": {}
  },
  {
   "cell_type": "code",
   "execution_count": 53,
   "source": [
    "means = pd.concat((conv_logs['mean'], wavenet_logs['mean']), axis=1)\n",
    "means.columns = ['conv', 'wavenet']\n",
    "\n",
    "fig, axes = plt.subplots(1,2, figsize=(15,6))\n",
    "means.loc[['short_loss','long_loss']].plot(kind='bar', rot=0, ax=axes[0], ylabel='NLL', title='Compare loss(NLL)')\n",
    "means.loc[['short_MAE','long_MAE']].plot(kind='bar', rot=0, ax=axes[1], ylabel='MAE', title='Compare MAE')"
   ],
   "outputs": [
    {
     "output_type": "execute_result",
     "data": {
      "text/plain": [
       "<AxesSubplot:title={'center':'Compare MAE'}, ylabel='MAE'>"
      ]
     },
     "metadata": {},
     "execution_count": 53
    },
    {
     "output_type": "display_data",
     "data": {
      "text/plain": [
       "<Figure size 1080x432 with 2 Axes>"
      ],
      "image/png": "[encoded data removed]"
     },
     "metadata": {}
    }
   ],
   "metadata": {}
  }
 ],
 "metadata": {
  "orig_nbformat": 4,
  "language_info": {
   "name": "python",
   "version": "3.8.10",
   "mimetype": "text/x-python",
   "codemirror_mode": {
    "name": "ipython",
    "version": 3
   },
   "pygments_lexer": "ipython3",
   "nbconvert_exporter": "python",
   "file_extension": ".py"
  },
  "kernelspec": {
   "name": "python3",
   "display_name": "Python 3.8.10 64-bit ('pytorch-env': conda)"
  },
  "interpreter": {
   "hash": "05cb4678c425dc78ebd8f07d93ca1ef591c77e67f932e6a19a7e2b1dda03f702"
  }
 },
 "nbformat": 4,
 "nbformat_minor": 2
}